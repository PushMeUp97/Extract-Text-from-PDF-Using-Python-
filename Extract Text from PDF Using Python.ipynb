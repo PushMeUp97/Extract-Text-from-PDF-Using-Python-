{
 "cells": [
  {
   "cell_type": "code",
   "execution_count": null,
   "id": "8ee6afac-a19e-47be-be3e-24c72a8b6858",
   "metadata": {},
   "outputs": [],
   "source": [
    "import PyPDF2\n",
    "\n",
    "# Open the PDF file\n",
    "pdf = open(\"C:\\\\Users\\\\Locas\\\\Desktop\\\\FileTestCodex\\\\Text to PDF\\\\Test Read Audio 02.pdf\", \"rb\")\n",
    "\n",
    "# Create a PdfReader object\n",
    "reader = PyPDF2.PdfReader(pdf)\n",
    "\n",
    "# Get the first page of the PDF\n",
    "page = reader.pages[0]\n",
    "\n",
    "# Extract text from the page\n",
    "print(page.extract_text())\n"
   ]
  }
 ],
 "metadata": {
  "kernelspec": {
   "display_name": "Python 3 (ipykernel)",
   "language": "python",
   "name": "python3"
  },
  "language_info": {
   "codemirror_mode": {
    "name": "ipython",
    "version": 3
   },
   "file_extension": ".py",
   "mimetype": "text/x-python",
   "name": "python",
   "nbconvert_exporter": "python",
   "pygments_lexer": "ipython3",
   "version": "3.12.6"
  }
 },
 "nbformat": 4,
 "nbformat_minor": 5
}
